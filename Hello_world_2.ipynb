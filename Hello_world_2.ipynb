{
  "nbformat": 4,
  "nbformat_minor": 0,
  "metadata": {
    "colab": {
      "provenance": [],
      "authorship_tag": "ABX9TyPQk+fbMNj4q/WlZtV0xLFg",
      "include_colab_link": true
    },
    "kernelspec": {
      "name": "python3",
      "display_name": "Python 3"
    },
    "language_info": {
      "name": "python"
    }
  },
  "cells": [
    {
      "cell_type": "markdown",
      "metadata": {
        "id": "view-in-github",
        "colab_type": "text"
      },
      "source": [
        "<a href=\"https://colab.research.google.com/github/RowenXu/Rowen233/blob/master/Hello_world_2.ipynb\" target=\"_parent\"><img src=\"https://colab.research.google.com/assets/colab-badge.svg\" alt=\"Open In Colab\"/></a>"
      ]
    },
    {
      "cell_type": "code",
      "execution_count": null,
      "metadata": {
        "id": "oGVVDeMxnIb1"
      },
      "outputs": [],
      "source": [
        "import matplotlib.pyplot as plot\n",
        "import numpy as np\n",
        "from matplotlib.pyplot import FontProperties\n",
        "import matplotlib as mpl\n",
        "\n",
        "#调字体摆烂了 先不学了\n",
        "\n",
        "pic=plot.figure(figsize=(5,5),dpi=150)\n"
      ]
    }
  ]
}