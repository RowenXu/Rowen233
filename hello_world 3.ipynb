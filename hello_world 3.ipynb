{
  "nbformat": 4,
  "nbformat_minor": 0,
  "metadata": {
    "colab": {
      "provenance": [],
      "authorship_tag": "ABX9TyOndzEX7lOmjEnpFXM3lnGD",
      "include_colab_link": true
    },
    "kernelspec": {
      "name": "python3",
      "display_name": "Python 3"
    },
    "language_info": {
      "name": "python"
    }
  },
  "cells": [
    {
      "cell_type": "markdown",
      "metadata": {
        "id": "view-in-github",
        "colab_type": "text"
      },
      "source": [
        "<a href=\"https://colab.research.google.com/github/RowenXu/Rowen233/blob/master/hello_world%203.ipynb\" target=\"_parent\"><img src=\"https://colab.research.google.com/assets/colab-badge.svg\" alt=\"Open In Colab\"/></a>"
      ]
    },
    {
      "cell_type": "code",
      "execution_count": null,
      "metadata": {
        "id": "JUf8A9LMDv3A"
      },
      "outputs": [],
      "source": [
        "import matplotlib.pyplot as plot\n",
        "import numpy as np\n",
        "from matplotlib.font_manager import FontProperties\n",
        "import matplotlib as mpl\n",
        "Simsum=Fontproperties(fname=\"./font/Simsun.ttf\")\n",
        "mpl.raParams['axes.unicode_minus']=False\n",
        "config={\"mathtext.fontset\":'stix',}\n",
        "mpl.raParams.update(config)\n",
        "band=plot.figure(figsize=(5,5),dpi=150)\n",
        "p1=plot.subplot(2,2,1)\n",
        "p2=plot.subplot(2,2,2)\n",
        "p3=plot.subplot(2,2,3)\n",
        "p4=plot.subplot(2,2,4)"
      ]
    },
    {
      "cell_type": "code",
      "source": [],
      "metadata": {
        "id": "e00HabsbEBY-"
      },
      "execution_count": null,
      "outputs": []
    }
  ]
}